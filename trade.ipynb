{
 "cells": [
  {
   "cell_type": "markdown",
   "metadata": {},
   "source": [
    "## Objective : Analyze the dataset to calculate financial metrics for each account, rank them, and provide a top 20 list."
   ]
  },
  {
   "cell_type": "code",
   "execution_count": 63,
   "metadata": {},
   "outputs": [],
   "source": [
    "import numpy as np\n",
    "import pandas as pd\n",
    "import matplotlib.pyplot as plt\n",
    "import seaborn as sns\n",
    "import ast\n",
    "\n",
    "     \n",
    "\n",
    "df = pd.read_csv(r'C:\\DATASCIENCE\\RonyProject\\Primetrade.ai\\TRADES_CopyTr_90D_ROI.csv')"
   ]
  },
  {
   "cell_type": "code",
   "execution_count": 64,
   "metadata": {},
   "outputs": [
    {
     "data": {
      "text/html": [
       "<div>\n",
       "<style scoped>\n",
       "    .dataframe tbody tr th:only-of-type {\n",
       "        vertical-align: middle;\n",
       "    }\n",
       "\n",
       "    .dataframe tbody tr th {\n",
       "        vertical-align: top;\n",
       "    }\n",
       "\n",
       "    .dataframe thead th {\n",
       "        text-align: right;\n",
       "    }\n",
       "</style>\n",
       "<table border=\"1\" class=\"dataframe\">\n",
       "  <thead>\n",
       "    <tr style=\"text-align: right;\">\n",
       "      <th></th>\n",
       "      <th>Port_IDs</th>\n",
       "      <th>Trade_History</th>\n",
       "    </tr>\n",
       "  </thead>\n",
       "  <tbody>\n",
       "    <tr>\n",
       "      <th>0</th>\n",
       "      <td>3925368433214965504</td>\n",
       "      <td>[{'time': 1718899656000, 'symbol': 'SOLUSDT', ...</td>\n",
       "    </tr>\n",
       "    <tr>\n",
       "      <th>1</th>\n",
       "      <td>4002413037164645377</td>\n",
       "      <td>[{'time': 1718980078000, 'symbol': 'NEARUSDT',...</td>\n",
       "    </tr>\n",
       "    <tr>\n",
       "      <th>2</th>\n",
       "      <td>3923766029921022977</td>\n",
       "      <td>[{'time': 1718677164000, 'symbol': 'ETHUSDT', ...</td>\n",
       "    </tr>\n",
       "    <tr>\n",
       "      <th>3</th>\n",
       "      <td>3994879592543698688</td>\n",
       "      <td>[{'time': 1718678214000, 'symbol': 'ETHUSDT', ...</td>\n",
       "    </tr>\n",
       "    <tr>\n",
       "      <th>4</th>\n",
       "      <td>3926423286576838657</td>\n",
       "      <td>[{'time': 1718979615000, 'symbol': 'ETHUSDT', ...</td>\n",
       "    </tr>\n",
       "  </tbody>\n",
       "</table>\n",
       "</div>"
      ],
      "text/plain": [
       "              Port_IDs                                      Trade_History\n",
       "0  3925368433214965504  [{'time': 1718899656000, 'symbol': 'SOLUSDT', ...\n",
       "1  4002413037164645377  [{'time': 1718980078000, 'symbol': 'NEARUSDT',...\n",
       "2  3923766029921022977  [{'time': 1718677164000, 'symbol': 'ETHUSDT', ...\n",
       "3  3994879592543698688  [{'time': 1718678214000, 'symbol': 'ETHUSDT', ...\n",
       "4  3926423286576838657  [{'time': 1718979615000, 'symbol': 'ETHUSDT', ..."
      ]
     },
     "execution_count": 64,
     "metadata": {},
     "output_type": "execute_result"
    }
   ],
   "source": [
    "df.head()"
   ]
  },
  {
   "cell_type": "code",
   "execution_count": 65,
   "metadata": {},
   "outputs": [
    {
     "name": "stdout",
     "output_type": "stream",
     "text": [
      "<class 'pandas.core.frame.DataFrame'>\n",
      "RangeIndex: 150 entries, 0 to 149\n",
      "Data columns (total 2 columns):\n",
      " #   Column         Non-Null Count  Dtype \n",
      "---  ------         --------------  ----- \n",
      " 0   Port_IDs       150 non-null    int64 \n",
      " 1   Trade_History  149 non-null    object\n",
      "dtypes: int64(1), object(1)\n",
      "memory usage: 2.5+ KB\n"
     ]
    }
   ],
   "source": [
    "df.info()"
   ]
  },
  {
   "cell_type": "markdown",
   "metadata": {},
   "source": [
    "## Handle Missing Values"
   ]
  },
  {
   "cell_type": "code",
   "execution_count": 66,
   "metadata": {},
   "outputs": [],
   "source": [
    "data_clean = df.dropna(subset=['Trade_History'])"
   ]
  },
  {
   "cell_type": "code",
   "execution_count": 67,
   "metadata": {},
   "outputs": [
    {
     "data": {
      "text/plain": [
       "(149, 2)"
      ]
     },
     "execution_count": 67,
     "metadata": {},
     "output_type": "execute_result"
    }
   ],
   "source": [
    "data_clean.shape"
   ]
  },
  {
   "cell_type": "code",
   "execution_count": 68,
   "metadata": {},
   "outputs": [
    {
     "name": "stdout",
     "output_type": "stream",
     "text": [
      "<class 'pandas.core.frame.DataFrame'>\n",
      "Int64Index: 149 entries, 0 to 149\n",
      "Data columns (total 2 columns):\n",
      " #   Column         Non-Null Count  Dtype \n",
      "---  ------         --------------  ----- \n",
      " 0   Port_IDs       149 non-null    int64 \n",
      " 1   Trade_History  149 non-null    object\n",
      "dtypes: int64(1), object(1)\n",
      "memory usage: 3.5+ KB\n"
     ]
    }
   ],
   "source": [
    "data_clean.info()"
   ]
  },
  {
   "cell_type": "markdown",
   "metadata": {},
   "source": [
    "## Parse the JSON-like Trade_History Column"
   ]
  },
  {
   "cell_type": "markdown",
   "metadata": {},
   "source": [
    "### The Trade_History column contains JSON-like objects. You need to convert these into a structured format for further analysis."
   ]
  },
  {
   "cell_type": "code",
   "execution_count": 69,
   "metadata": {},
   "outputs": [
    {
     "name": "stderr",
     "output_type": "stream",
     "text": [
      "C:\\Users\\Rony\\AppData\\Local\\Temp\\ipykernel_19428\\2913990028.py:1: SettingWithCopyWarning: \n",
      "A value is trying to be set on a copy of a slice from a DataFrame.\n",
      "Try using .loc[row_indexer,col_indexer] = value instead\n",
      "\n",
      "See the caveats in the documentation: https://pandas.pydata.org/pandas-docs/stable/user_guide/indexing.html#returning-a-view-versus-a-copy\n",
      "  data_clean['Trade_History'] = data_clean['Trade_History'].apply(ast.literal_eval)\n"
     ]
    },
    {
     "data": {
      "text/plain": [
       "0    [{'time': 1718899656000, 'symbol': 'SOLUSDT', ...\n",
       "1    [{'time': 1718980078000, 'symbol': 'NEARUSDT',...\n",
       "2    [{'time': 1718677164000, 'symbol': 'ETHUSDT', ...\n",
       "3    [{'time': 1718678214000, 'symbol': 'ETHUSDT', ...\n",
       "4    [{'time': 1718979615000, 'symbol': 'ETHUSDT', ...\n",
       "Name: Trade_History, dtype: object"
      ]
     },
     "execution_count": 69,
     "metadata": {},
     "output_type": "execute_result"
    }
   ],
   "source": [
    "data_clean['Trade_History'] = data_clean['Trade_History'].apply(ast.literal_eval)\n",
    "\n",
    "# Check the first few parsed entries\n",
    "data_clean['Trade_History'].head()"
   ]
  },
  {
   "cell_type": "markdown",
   "metadata": {},
   "source": [
    "## Extract Trade Details"
   ]
  },
  {
   "cell_type": "markdown",
   "metadata": {},
   "source": [
    "### Now, extract the trade details (e.g., symbol, price, quantity, etc.) from Trade_History for each Port_ID."
   ]
  },
  {
   "cell_type": "code",
   "execution_count": 70,
   "metadata": {},
   "outputs": [
    {
     "data": {
      "text/html": [
       "<div>\n",
       "<style scoped>\n",
       "    .dataframe tbody tr th:only-of-type {\n",
       "        vertical-align: middle;\n",
       "    }\n",
       "\n",
       "    .dataframe tbody tr th {\n",
       "        vertical-align: top;\n",
       "    }\n",
       "\n",
       "    .dataframe thead th {\n",
       "        text-align: right;\n",
       "    }\n",
       "</style>\n",
       "<table border=\"1\" class=\"dataframe\">\n",
       "  <thead>\n",
       "    <tr style=\"text-align: right;\">\n",
       "      <th></th>\n",
       "      <th>Port_ID</th>\n",
       "      <th>time</th>\n",
       "      <th>symbol</th>\n",
       "      <th>side</th>\n",
       "      <th>price</th>\n",
       "      <th>quantity</th>\n",
       "      <th>realizedProfit</th>\n",
       "      <th>positionSide</th>\n",
       "    </tr>\n",
       "  </thead>\n",
       "  <tbody>\n",
       "    <tr>\n",
       "      <th>0</th>\n",
       "      <td>3925368433214965504</td>\n",
       "      <td>2024-06-20 16:07:36</td>\n",
       "      <td>SOLUSDT</td>\n",
       "      <td>BUY</td>\n",
       "      <td>132.53700</td>\n",
       "      <td>1988.05500</td>\n",
       "      <td>0.0</td>\n",
       "      <td>LONG</td>\n",
       "    </tr>\n",
       "    <tr>\n",
       "      <th>1</th>\n",
       "      <td>3925368433214965504</td>\n",
       "      <td>2024-06-20 16:06:58</td>\n",
       "      <td>DOGEUSDT</td>\n",
       "      <td>BUY</td>\n",
       "      <td>0.12182</td>\n",
       "      <td>1398.98088</td>\n",
       "      <td>0.0</td>\n",
       "      <td>LONG</td>\n",
       "    </tr>\n",
       "    <tr>\n",
       "      <th>2</th>\n",
       "      <td>3925368433214965504</td>\n",
       "      <td>2024-06-20 16:06:58</td>\n",
       "      <td>DOGEUSDT</td>\n",
       "      <td>BUY</td>\n",
       "      <td>0.12182</td>\n",
       "      <td>197.47022</td>\n",
       "      <td>0.0</td>\n",
       "      <td>LONG</td>\n",
       "    </tr>\n",
       "    <tr>\n",
       "      <th>3</th>\n",
       "      <td>3925368433214965504</td>\n",
       "      <td>2024-06-20 16:06:56</td>\n",
       "      <td>DOGEUSDT</td>\n",
       "      <td>BUY</td>\n",
       "      <td>0.12182</td>\n",
       "      <td>16.56752</td>\n",
       "      <td>0.0</td>\n",
       "      <td>LONG</td>\n",
       "    </tr>\n",
       "    <tr>\n",
       "      <th>4</th>\n",
       "      <td>3925368433214965504</td>\n",
       "      <td>2024-06-20 16:06:56</td>\n",
       "      <td>DOGEUSDT</td>\n",
       "      <td>BUY</td>\n",
       "      <td>0.12182</td>\n",
       "      <td>92.21774</td>\n",
       "      <td>0.0</td>\n",
       "      <td>LONG</td>\n",
       "    </tr>\n",
       "  </tbody>\n",
       "</table>\n",
       "</div>"
      ],
      "text/plain": [
       "               Port_ID                time    symbol side      price  \\\n",
       "0  3925368433214965504 2024-06-20 16:07:36   SOLUSDT  BUY  132.53700   \n",
       "1  3925368433214965504 2024-06-20 16:06:58  DOGEUSDT  BUY    0.12182   \n",
       "2  3925368433214965504 2024-06-20 16:06:58  DOGEUSDT  BUY    0.12182   \n",
       "3  3925368433214965504 2024-06-20 16:06:56  DOGEUSDT  BUY    0.12182   \n",
       "4  3925368433214965504 2024-06-20 16:06:56  DOGEUSDT  BUY    0.12182   \n",
       "\n",
       "     quantity  realizedProfit positionSide  \n",
       "0  1988.05500             0.0         LONG  \n",
       "1  1398.98088             0.0         LONG  \n",
       "2   197.47022             0.0         LONG  \n",
       "3    16.56752             0.0         LONG  \n",
       "4    92.21774             0.0         LONG  "
      ]
     },
     "execution_count": 70,
     "metadata": {},
     "output_type": "execute_result"
    }
   ],
   "source": [
    "trade_data_list = []\n",
    "\n",
    "# Loop through each row and extract trade details\n",
    "for idx, row in data_clean.iterrows():\n",
    "    port_id = row['Port_IDs']\n",
    "    trade_history = row['Trade_History']\n",
    "\n",
    "    for trade in trade_history:\n",
    "        trade_data_list.append({\n",
    "            'Port_ID': port_id,\n",
    "            'time': trade.get('time'),\n",
    "            'symbol': trade.get('symbol'),\n",
    "            'side': trade.get('side'),\n",
    "            'price': trade.get('price'),\n",
    "            'quantity': trade.get('quantity'),\n",
    "            'realizedProfit': trade.get('realizedProfit', 0),\n",
    "            'positionSide': trade.get('positionSide')\n",
    "        })\n",
    "\n",
    "# Convert the list to a DataFrame\n",
    "trade_data_df = pd.DataFrame(trade_data_list)\n",
    "\n",
    "# Convert 'time' to datetime format\n",
    "trade_data_df['time'] = pd.to_datetime(trade_data_df['time'], unit='ms')\n",
    "\n",
    "# Check the extracted data\n",
    "trade_data_df.head()"
   ]
  },
  {
   "cell_type": "markdown",
   "metadata": {},
   "source": [
    "## Calculate Metrics"
   ]
  },
  {
   "cell_type": "markdown",
   "metadata": {},
   "source": [
    "### 1. Return on Investment (ROI)"
   ]
  },
  {
   "cell_type": "code",
   "execution_count": 78,
   "metadata": {},
   "outputs": [],
   "source": [
    "def calculate_roi(x):\n",
    "    investment = (x['price'] * x['quantity']).sum()\n",
    "    profit = x['realizedProfit'].sum()\n",
    "    # Prevent division by zero\n",
    "    return 0 if investment == 0 else (profit / investment) * 100"
   ]
  },
  {
   "cell_type": "markdown",
   "metadata": {},
   "source": [
    "### 2. Profit and Loss (PnL)"
   ]
  },
  {
   "cell_type": "code",
   "execution_count": 72,
   "metadata": {},
   "outputs": [],
   "source": [
    "pnl_df = trade_data_df.groupby('Port_ID')['realizedProfit'].sum().reset_index(name='PnL')\n",
    "     "
   ]
  },
  {
   "cell_type": "markdown",
   "metadata": {},
   "source": [
    "### 3. Win Rate"
   ]
  },
  {
   "cell_type": "code",
   "execution_count": 73,
   "metadata": {},
   "outputs": [],
   "source": [
    "trade_data_df['win'] = trade_data_df['realizedProfit'] > 0\n",
    "\n",
    "# Calculate win rate for each Port_ID\n",
    "win_rate_df = trade_data_df.groupby('Port_ID')['win'].mean().reset_index(name='Win_Rate')\n",
    "\n",
    "# Calculate total win positions\n",
    "win_positions_df = trade_data_df.groupby('Port_ID')['win'].sum().reset_index(name='Win_Positions')\n",
    "\n",
    "# Calculate total positions\n",
    "total_positions_df = trade_data_df.groupby('Port_ID')['win'].count().reset_index(name='Total_Positions')\n"
   ]
  },
  {
   "cell_type": "markdown",
   "metadata": {},
   "source": [
    "### 4. Sharpe Ratio"
   ]
  },
  {
   "cell_type": "code",
   "execution_count": 79,
   "metadata": {},
   "outputs": [],
   "source": [
    "def calculate_sharpe(x, risk_free_rate=0.01):\n",
    "    returns = x['realizedProfit']\n",
    "    if len(returns) < 2:  # Need at least 2 points\n",
    "        return 0\n",
    "    std = returns.std()\n",
    "    if std == 0:  # Prevent division by zero\n",
    "        return 0\n",
    "    return (returns.mean() - risk_free_rate) / std"
   ]
  },
  {
   "cell_type": "markdown",
   "metadata": {},
   "source": [
    "### 5. Maximum Drawdown (MDD)"
   ]
  },
  {
   "cell_type": "code",
   "execution_count": 83,
   "metadata": {},
   "outputs": [],
   "source": [
    "def calculate_mdd(returns):\n",
    "    if len(returns) < 2:\n",
    "        return 0\n",
    "    cumulative_returns = (1 + returns).cumprod()\n",
    "    running_max = cumulative_returns.expanding().max()\n",
    "    drawdowns = (cumulative_returns - running_max) / running_max\n",
    "    return abs(drawdowns.min()) if not drawdowns.empty else 0\n",
    "\n"
   ]
  },
  {
   "cell_type": "markdown",
   "metadata": {},
   "source": [
    "## Ranking Accounts"
   ]
  },
  {
   "cell_type": "markdown",
   "metadata": {},
   "source": [
    "### Combine all the metrics into one DataFrame and rank the accounts:"
   ]
  },
  {
   "cell_type": "code",
   "execution_count": 84,
   "metadata": {},
   "outputs": [
    {
     "name": "stderr",
     "output_type": "stream",
     "text": [
      "c:\\Users\\Rony\\anaconda3\\lib\\site-packages\\numpy\\core\\fromnumeric.py:59: RuntimeWarning: overflow encountered in accumulate\n",
      "  return bound(*args, **kwds)\n"
     ]
    },
    {
     "name": "stdout",
     "output_type": "stream",
     "text": [
      "                 Port_ID    ROI       PnL  Win_Rate  Total_Trades  Score  Rank\n",
      "46   3977234346014419201  36.53   2427.29     39.76            83   0.54   1.0\n",
      "130  3826087012661391104   0.00    532.66     58.33           108   0.47   2.0\n",
      "35   3986814617275053313   0.09  16337.46     78.22          3554   0.46   3.0\n",
      "128  3956048468100538880   0.00   1373.56     71.43            28   0.46   4.0\n",
      "21   3891020560590657281   6.80   2856.30     64.76           437   0.46   5.0\n",
      "126  3999240873283311617   0.10  42574.47     52.32          4522   0.43   6.0\n",
      "41   3983074113875692800  18.79   2424.83     32.56            43   0.42   7.0\n",
      "109  4039279455324236544   1.84   1038.81     55.35           327   0.41   8.0\n",
      "82   4020204877254599680   0.00  71998.86     32.94          6050   0.40   9.0\n",
      "119  3886752488982104320   0.00   7195.18     74.54          1249   0.39  10.0\n",
      "85   4022641794255717633   0.35   2176.83     43.52          6052   0.39  11.0\n",
      "117  3943533600390906881   0.00   2361.42     54.80          1759   0.38  12.0\n",
      "118  3907081197088384000   0.04  18016.00     61.40          4137   0.38  13.0\n",
      "140  4039129759104249600   0.23   1264.29     44.36           133   0.38  14.0\n",
      "39   4017110277719148289   0.00   2899.93     56.75           252   0.38  15.0\n",
      "40   4035430878731345664   0.00   2493.75     48.31            89   0.38  16.0\n",
      "146  4028701921959171840   0.00  17601.40     54.29           687   0.38  17.0\n",
      "87   4022565861939831809   0.00  14197.58     52.77           705   0.37  18.0\n",
      "28   4029422834086627072   0.00   2799.90     37.25           102   0.36  19.0\n",
      "44   4023697433751327232  22.82   2408.22      9.52            42   0.36  20.0\n"
     ]
    }
   ],
   "source": [
    "# Main metrics calculation function\n",
    "def calculate_account_metrics(trade_data_df):\n",
    "    metrics = []\n",
    "\n",
    "    for port_id in trade_data_df['Port_ID'].unique():\n",
    "        port_trades = trade_data_df[trade_data_df['Port_ID'] == port_id]\n",
    "\n",
    "        # Calculating basic metrics\n",
    "        roi = calculate_roi(port_trades)\n",
    "        pnl = port_trades['realizedProfit'].sum()\n",
    "        win_rate = (port_trades['realizedProfit'] > 0).mean() * 100\n",
    "        total_trades = len(port_trades)\n",
    "        sharpe = calculate_sharpe(port_trades)\n",
    "        mdd = calculate_mdd(port_trades['realizedProfit'])\n",
    "        # Storing the metrics\n",
    "        metrics.append({\n",
    "            'Port_ID': port_id,\n",
    "            'ROI': roi,\n",
    "            'PnL': pnl,\n",
    "            'Win_Rate': win_rate,\n",
    "            'Total_Trades': total_trades,\n",
    "            'Sharpe_Ratio': sharpe,\n",
    "            'MDD': mdd\n",
    "})\n",
    "\n",
    " # Converting to DataFrame\n",
    "    metrics_df = pd.DataFrame(metrics)\n",
    "\n",
    "    # Normalize metrics between 0 and 1\n",
    "    cols_to_normalize = ['ROI', 'PnL', 'Win_Rate', 'Sharpe_Ratio']\n",
    "    for col in cols_to_normalize:\n",
    "        min_val = metrics_df[col].min()\n",
    "        max_val = metrics_df[col].max()\n",
    "        if max_val != min_val:\n",
    "            metrics_df[f'{col}_norm'] = (metrics_df[col] - min_val) / (max_val - min_val)\n",
    "        else:\n",
    "            metrics_df[f'{col}_norm'] = metrics_df[col] / max_val if max_val != 0 else 0\n",
    "\n",
    "    # Calculate composite score (with equal weights)\n",
    "    metrics_df['Score'] = (\n",
    "        metrics_df['ROI_norm'] * 0.25 +\n",
    "        metrics_df['PnL_norm'] * 0.25 +\n",
    "        metrics_df['Win_Rate_norm'] * 0.25 +\n",
    "        metrics_df['Sharpe_Ratio_norm'] * 0.25\n",
    "    )\n",
    "\n",
    "    # Calculate rank (1 is best)\n",
    "    metrics_df['Rank'] = metrics_df['Score'].rank(ascending=False, method='min')\n",
    "\n",
    "    return metrics_df.sort_values('Rank')\n",
    "\n",
    "metrics_df = calculate_account_metrics(trade_data_df)\n",
    "\n",
    "# Sort by rank and select top 20\n",
    "top_20_accounts = metrics_df.sort_values('Rank').head(20)\n",
    "\n",
    "# Preview top 20 accounts\n",
    "top_20_accounts[['Port_ID', 'Score', 'Rank']]\n",
    "\n",
    "# Displaying results with rounded numbers for better readability\n",
    "display_columns = ['Port_ID', 'ROI', 'PnL', 'Win_Rate', 'Total_Trades', 'Score', 'Rank']\n",
    "print(top_20_accounts[display_columns].round(2))\n"
   ]
  },
  {
   "cell_type": "markdown",
   "metadata": {},
   "source": [
    "## Saving Results"
   ]
  },
  {
   "cell_type": "code",
   "execution_count": 85,
   "metadata": {},
   "outputs": [],
   "source": [
    "metrics_df.to_csv(r'metrics.csv', index=False)\n",
    "\n",
    "# Save top 20 accounts to CSV\n",
    "top_20_accounts.to_csv(r'top_20_accounts.csv', index=False)\n",
    "\n",
    "     "
   ]
  }
 ],
 "metadata": {
  "kernelspec": {
   "display_name": "base",
   "language": "python",
   "name": "python3"
  },
  "language_info": {
   "codemirror_mode": {
    "name": "ipython",
    "version": 3
   },
   "file_extension": ".py",
   "mimetype": "text/x-python",
   "name": "python",
   "nbconvert_exporter": "python",
   "pygments_lexer": "ipython3",
   "version": "3.10.9"
  }
 },
 "nbformat": 4,
 "nbformat_minor": 2
}
